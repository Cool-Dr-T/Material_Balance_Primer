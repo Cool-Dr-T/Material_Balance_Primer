{
 "cells": [
  {
   "cell_type": "code",
   "execution_count": 1,
   "metadata": {},
   "outputs": [
    {
     "name": "stdout",
     "output_type": "stream",
     "text": [
      "importing Jupyter notebook from PVT_funcs.ipynb\n"
     ]
    }
   ],
   "source": [
    "## imports for the notebook\n",
    "import import_ipynb\n",
    "import os\n",
    "import PVT_funcs as pvt\n",
    "import numpy as np\n",
    "import pandas as pd\n",
    "import matplotlib.pyplot as plt\n"
   ]
  },
  {
   "cell_type": "markdown",
   "metadata": {},
   "source": [
    "# Basic material balance principles"
   ]
  },
  {
   "cell_type": "markdown",
   "metadata": {},
   "source": [
    "The general form of the material balance equation was first presented by [Schilthuis](#refs) in 1941. The equation is derived as a volume balance which equates the cumulative observed production, expressed as an underground withdrawal, to the expansion of the fluids in the reservoir resulting from a finite pressure drop.\n",
    "\n",
    "The majority of these examples and a more detailed explanation of their history and extension can also be found in [Dake's](#refs) textbook. We have followed their general thread here because it is quite logical in its layout.\n",
    "\n",
    "To start with we will assume that we do not know anything about the volume of oil in the reservoir. This is a valid assumption because in reality we never know this (it is always just an estimate). However, we will see how powerful material balance is because we do not need to know this value to do some very useful calculations."
   ]
  },
  {
   "cell_type": "code",
   "execution_count": 2,
   "metadata": {},
   "outputs": [],
   "source": [
    "# initial setup\n",
    "Pi=3109.4 #psia -- intial reservoir pressure, for the purposes of the following schematic we will start at bubble point\n",
    "T=210.0 # deg F -- reservoir temperature (held constant through all of this)\n",
    "res_porosity=0.23 # formation porosity\n",
    "# some input fluid properties for the oil, gas and water to calculate required values\n",
    "fluid_property_inputs={'api':35.0,\n",
    "                  'gas_oil_ratio':620.0,\n",
    "                  'gas_gravity':0.72,\n",
    "                  'pressure':Pi,\n",
    "                  'temperature':T,\n",
    "                  'water_salinity':35000.0}\n",
    "# create initial fluids\n",
    "initial_oil=pvt.oil_properties(fluid_property_inputs)\n",
    "initial_gas=pvt.gas_properties(fluid_property_inputs)\n",
    "initial_water=pvt.water_properties(fluid_property_inputs)\n",
    "# get the initial compressibility\n",
    "cf=pvt.formation_compressibility(res_porosity)\n",
    "\n",
    "N=1.0 # STB -- initial oil volume, conceptually the value of number makes no difference for the following demonstration\n",
    "m=0.1 # ratio of initial gas cap volumn to initial oil volume\n",
    "Swc=0.2 # connate water saturation, averaged for the whole reservoir\n",
    "So=(1-Swc) # saturation of oil in the oil bearing zone of the reservoir\n",
    "Sg=(1-Swc) # gas saturation in gas region\n",
    "mNBoi=m*N*initial_oil['fvf']\n",
    "V=(1+m)*N*initial_oil['fvf']/(res_porosity*(1-Swc)) # total volume of the reservoir system, all rock, water, oil and gas"
   ]
  },
  {
   "cell_type": "markdown",
   "metadata": {},
   "source": [
    "Lets plot what that means in terms of volumes and how it evolves when we change the pressure using the following relationships:\n",
    "\n",
    "liquid expansion: $$ N(B_o - B_{oi}) $$\n",
    "liberated gas: $$ N(R_{si} - R_s)B_g $$\n",
    "gas volume at new pressure: $$ mNB_{oi}\\frac{B_g}{B_{gi}} $$\n",
    "\n",
    "The change in the hydrocarbon pore volume is expressed as the expansion of the water and formation in the system:\n",
    "$$ d(HCPV) = -(c_wV_w + c_fV_f) \\Delta p $$"
   ]
  },
  {
   "cell_type": "markdown",
   "metadata": {},
   "source": [
    "## simple reservoir pressure drop schematic"
   ]
  },
  {
   "cell_type": "code",
   "execution_count": 3,
   "metadata": {},
   "outputs": [
    {
     "data": {
      "image/png": "[encoded data removed]",
      "text/plain": [
       "<Figure size 288x720 with 1 Axes>"
      ]
     },
     "metadata": {
      "needs_background": "light"
     },
     "output_type": "display_data"
    }
   ],
   "source": [
    "p=2750.0 # psia - reduced reservoir pressure\n",
    "#calculate new properties at this pressure\n",
    "fluid_property_inputs['pressure']=p\n",
    "oil=pvt.oil_properties(fluid_property_inputs)\n",
    "gas=pvt.gas_properties(fluid_property_inputs)\n",
    "water=pvt.water_properties(fluid_property_inputs)\n",
    "\n",
    "# calculate volumes to plot the changes\n",
    "pressures=['{:.1f}'.format(Pi),'{:.1f}'.format(p)]\n",
    "oil_volumes=[N*initial_oil['fvf'],N*oil['fvf']]\n",
    "liberated_gas=[0.0,N*(initial_oil['solution_gas']-oil['solution_gas'])*gas['fvf']]\n",
    "gas_volumes=[mNBoi,mNBoi*(gas['fvf']/initial_gas['fvf'])]\n",
    "water_volume_change=[0.0,V*Swc*water['compressibility']*(Pi-p)]\n",
    "formation_volume_change=[0.0,V*(1-res_porosity)*cf*(Pi-p)]\n",
    "\n",
    "# now plot these volumes\n",
    "fig=plt.figure(figsize=(4,10))\n",
    "ax=fig.add_subplot(111)\n",
    "ax.bar(pressures,formation_volume_change,label='formation',color='gray')\n",
    "ax.bar(pressures,water_volume_change,bottom=formation_volume_change,label='water',color='blue')\n",
    "bottoms=[x + y for x, y in zip(water_volume_change, formation_volume_change)]\n",
    "ax.bar(pressures,oil_volumes,bottom=bottoms,label='oil',color='green')\n",
    "bottoms=[x + y for x, y in zip(bottoms, oil_volumes)]\n",
    "ax.bar(pressures,liberated_gas,bottom=bottoms,label='liberated gas',color='purple')\n",
    "bottoms=[x + y for x, y in zip(bottoms, liberated_gas)]\n",
    "ax.bar(pressures,gas_volumes,bottom=bottoms,label='gas',color='red')\n",
    "\n",
    "# format\n",
    "ax.set_xlabel('reservoir pressure (psia)')\n",
    "ax.set_ylabel('volume')\n",
    "ax.legend(loc='upper left',bbox_to_anchor=(1.0, 1.0))\n",
    "plt.show()"
   ]
  },
  {
   "cell_type": "markdown",
   "metadata": {},
   "source": [
    "We can see that the reservoir pressure dropping has resulted in an increase in the total volume of the system. Since the reservoir is bounded on all sides by rock, clearly it cannot 'grow' in size. The resulting extra volume is therefore assumed to have been removed from the reservoir in the form of production.\n",
    "\n",
    "The observed production is given the name 'Np' and corresponds to the surface production of oil ('NpRp' is the gas produced).\n",
    "\n",
    "So, we can equate these volumes at surface to the change in volume at the 'new' reservoir pressure (F):\n",
    "\n",
    "$$ F = N_p(B_o+(R_p-R_s)B_g) $$"
   ]
  },
  {
   "cell_type": "markdown",
   "metadata": {},
   "source": []
  },
  {
   "cell_type": "markdown",
   "metadata": {},
   "source": [
    "## Putting the whole thing together"
   ]
  },
  {
   "cell_type": "markdown",
   "metadata": {},
   "source": [
    "Equating the underground withdrawl above with the expansion terms results in the material balance equation. This was first derived by [Schilthuis](#refs) in 1941 and is the basis for all of the techniques going forward in this introduction.\n",
    "We introduce two terms here; cumulative water influx from an aquifer, (We); and cumulative water produced (Wp) these values are at stock tank conditions so we also need the water formation volume factor (Bw).\n",
    "\n",
    "$$ N_p(B_o+(R_p-R_s)B_g) = NB_{oi} \\left[ \\frac{(B_o - B_{oi})+(R_{si} - R_s)B_g}{B_{oi}} + m\\left(\\frac{B_g}{B_{gi}} - 1\\right) + (1+m) \\left( \\frac{c_wS_{wc}+c_f}{1-S_{wc}} \\right) \\Delta p \\right] + (W_e - W_p)B_w $$\n",
    "\n",
    "There are a few important limitations (or advantages) to this equation that should be mentioned at this point. \n",
    "1. it is zero dimensional, therefore it is simply evaluated at a point in the reservoir, all that is required is to define a reference depth and therefore a pressure. This should be consistent of the whole reservoir.\n",
    "2. it is process independent, meaning that there is no time dependence to it. There are some aquifer influx models that are transient and therefore consider the path that they took to get to a certain pressure however for the basics we will assume that the pressure steps are instant and are at equilibrium when we do the calculations.\n",
    "3. The only inputs are conceptually PVT (which is pressure dependant) and the production data, so these are things that are easily measured at surface with relatively high levels of accuracy.\n",
    "\n",
    "## Drive mechanisms and recovery\n",
    "Lets look at some drive mechanisms and some recovery calculations. We will quickly see that we actually do not need to know the volume of the reservoir to calculate the recovery that we will expect. (that might seem counter intuitive, however it is a simple calculation)\n",
    "### Solution gas drive\n",
    "Lets look at a reservoir under solution gas drive, for this we have to assume that there is no gas cap (i.e. the reservoir is above the bubble point). So m=0 in the above equations, this simplifies things down to: (we will ignore water influx and production)\n",
    "$$ N_p B_o = NB_{oi} \\left[ \\frac{B_o - B_{oi}}{B_{oi}} + \\frac{c_wS_{wc}+c_f}{1-S_{wc}} \\Delta p \\right] $$\n",
    "If we define the compressibility of the oil as: $$ c_o=\\frac{(B_o-B_{oi})}{B_{oi} \\Delta p} $$\n",
    "Then we can define the following equation: $$ N_pB_o=NB_{oi}c_e \\Delta p $$\n",
    "Where the total compressibility is: $$ c_e=\\frac{1}{1-S_{wc}}(c_oS_o+c_wS_{wc}+c_f) $$\n",
    "So lets calculate the fractional recovery of an undersaturated reservoir when it gets to the bubble point if we assume only solution gas drive as the mechanism."
   ]
  },
  {
   "cell_type": "code",
   "execution_count": 4,
   "metadata": {},
   "outputs": [
    {
     "name": "stdout",
     "output_type": "stream",
     "text": [
      "formation compressibility: 3.327e-06\n",
      "water saturation: 0.2\n",
      "water compressibility: 3.167e-06\n",
      "initial oil formation volume factor: 1.290\n",
      "bubble point oil formation volume factor: 1.330\n",
      "average oil compressibility: 2.223e-05\n",
      "\n",
      "total reservoir compressibility: 2.718e-05\n"
     ]
    }
   ],
   "source": [
    "# create initial fluids, using the properties above, just at a higher pressure\n",
    "Pi=4500.0 #psia -- intial reservoir pressure, for the purposes of the following schematic we will above bubble point\n",
    "p=3109.4 #psia -- bubble point pressure\n",
    "\n",
    "# calculate initial reservoir fluid properties\n",
    "fluid_property_inputs['pressure']=Pi\n",
    "initial_oil=pvt.oil_properties(fluid_property_inputs)\n",
    "initial_gas=pvt.gas_properties(fluid_property_inputs)\n",
    "initial_water=pvt.water_properties(fluid_property_inputs)\n",
    "\n",
    "#calculate new properties at this pressure\n",
    "fluid_property_inputs['pressure']=p\n",
    "oil=pvt.oil_properties(fluid_property_inputs)\n",
    "gas=pvt.gas_properties(fluid_property_inputs)\n",
    "water=pvt.water_properties(fluid_property_inputs)\n",
    "\n",
    "cw=water['compressibility']\n",
    "boi=initial_oil['fvf']\n",
    "bo=oil['fvf']\n",
    "\n",
    "co=(bo-boi)/(boi*(Pi-p))\n",
    "\n",
    "print('formation compressibility: {:.3e}'.format(cf))\n",
    "print('water saturation: {}'.format(Swc))\n",
    "print('water compressibility: {:.3e}'.format(cw))\n",
    "print('initial oil formation volume factor: {:.3f}'.format(boi))\n",
    "print('bubble point oil formation volume factor: {:.3f}'.format(bo))\n",
    "print('average oil compressibility: {:.3e}'.format(co))\n",
    "\n",
    "ce=(1.0/(1.0-Swc))*(co*(1.0-Swc)+cw*Swc+cf)\n",
    "\n",
    "print('\\ntotal reservoir compressibility: {:.3e}'.format(ce))"
   ]
  },
  {
   "cell_type": "markdown",
   "metadata": {},
   "source": [
    "Recovery is simply the ratio of produced fluid to the total volume: $$ \\frac{N_p}{N} $$ So, rearranging the equation above we get: $$ \\frac{N_p}{N} = \\frac{B_{oi}}{B_o}c_e \\Delta p $$"
   ]
  },
  {
   "cell_type": "code",
   "execution_count": 5,
   "metadata": {},
   "outputs": [
    {
     "name": "stdout",
     "output_type": "stream",
     "text": [
      "reservoir recovery at 3109.4 is 3.67%\n"
     ]
    }
   ],
   "source": [
    "recovery=boi/bo*ce*(Pi-p)\n",
    "print('reservoir recovery at {:.1f} is {:.3}%'.format(p,recovery*100))"
   ]
  },
  {
   "cell_type": "markdown",
   "metadata": {},
   "source": [
    "So we do not get a lot of fluid out of the reservoir from simply solution expansion, this is to be expected because it shouldn't expand much (it is a liquid after all). However that is a lot of wasted energy since we have depleted the reservoir pressure by nearly 1400 psi.\n",
    "\n",
    "### Solution gas drive below the bubble point\n",
    "\n",
    "Lets take a look at the solution gas drive mechanism as we go below the bubble point pressure. We will make some simple assumptions here:\n",
    "1. That there was no initial gas cap (as above)\n",
    "2. There is no water drive or water influx from an aquifer\n",
    "3. once we drop below the bubble point the total compressibility is dominated by the gas and oil and we iwll ignore the effect of water and formation. You can add it in later if you like...\n",
    "\n",
    "so, looking back at our underground withdrawl idea and equation we get: $$ N_p(B_o+(R_p-R_s)B_g) = N ((B_o - B_{oi})+(R_{si} - R_s)B_g) $$\n",
    "So we rearrange as above to get recovery: $$ recovery=\\frac{N_p}{N}=\\frac{(B_o - B_{oi})+(R_{si} - R_s)B_g}{B_o+(R_p-R_s)B_g} $$\n",
    "So if we can determine an abandoment pressure we can calculate an ultimate recovery from the above relationship. Lets assume, for the sake of argument that we can lift fluid from the reservoir down to 1000.0 psia reservoir pressure. What will be the recovery?"
   ]
  },
  {
   "cell_type": "code",
   "execution_count": 6,
   "metadata": {},
   "outputs": [
    {
     "name": "stdout",
     "output_type": "stream",
     "text": [
      "reservoir recovery at 1000.0 psia is 47.9%\n"
     ]
    }
   ],
   "source": [
    "#calculate new properties at this pressure\n",
    "p=1000.0 # psia, abandonment pressure for the reservoir\n",
    "fluid_property_inputs['pressure']=p\n",
    "oil=pvt.oil_properties(fluid_property_inputs)\n",
    "gas=pvt.gas_properties(fluid_property_inputs)\n",
    "water=pvt.water_properties(fluid_property_inputs)\n",
    "\n",
    "Rsi=initial_oil['solution_gas']\n",
    "bo=oil['fvf']\n",
    "Rs=oil['solution_gas']\n",
    "Bg=gas['fvf']\n",
    "\n",
    "# calculate Rp here, we will initially assume that we only lift solution gas, this is unrealistic in most case but we \n",
    "# see how this affects the recovery in a second\n",
    "Rp=fluid_property_inputs['gas_oil_ratio']\n",
    "\n",
    "recovery=((bo-boi)+(Rsi-Rs)*Bg)/(bo+(Rp-Rs)*Bg)\n",
    "print('reservoir recovery at {:.1f} psia is {:.3}%'.format(p,recovery*100))"
   ]
  },
  {
   "cell_type": "markdown",
   "metadata": {},
   "source": [
    "That is a huge recovery in oil industry terms, so we can see that it is possible but lets look at the assumption that we made, we only produced at the initial gas oil ratio of the gas. This is unrealistic as gas is extremely mobile and will move towards the wells and break through when we produce. We can clearly see it is advantagous to leave as much gas in the reservoir as possible, however lets look at what the impact of increasing the produced gas ratio is to the recovery."
   ]
  },
  {
   "cell_type": "code",
   "execution_count": 7,
   "metadata": {},
   "outputs": [
    {
     "data": {
      "image/png": "[encoded data removed]",
      "text/plain": [
       "<Figure size 720x288 with 1 Axes>"
      ]
     },
     "metadata": {
      "needs_background": "light"
     },
     "output_type": "display_data"
    }
   ],
   "source": [
    "# create a function  that allows us to calculate the recovery as a function of produced gas ratio (Rp)\n",
    "def calculate_recovery_from_Rp(_rp):\n",
    "    return ((bo-boi)+(Rsi-Rs)*Bg)/(bo+(_rp-Rs)*Bg)*100.0\n",
    "\n",
    "rps=np.linspace(start=Rp,stop=3000.0,num=20)\n",
    "rfs=[calculate_recovery_from_Rp(r) for r in rps]\n",
    "\n",
    "# now plot these volumes\n",
    "fig=plt.figure(figsize=(10,4))\n",
    "ax=fig.add_subplot(111)\n",
    "ax.plot(rps,rfs,'b-')\n",
    "ax.set_xlabel('produced gas ratio (scf/stb)')\n",
    "ax.set_ylabel('recovery factor (%)')\n",
    "\n",
    "plt.show()"
   ]
  },
  {
   "cell_type": "markdown",
   "metadata": {},
   "source": [
    "## Calculating reservoir size and properties from material balance"
   ]
  },
  {
   "cell_type": "markdown",
   "metadata": {},
   "source": [
    "Lets have a look now at using material balance to calculate the size of our reservoir. In this example the reservoir size and gas cap size are not known. All we know is the reservoir pressure and production history of oil and gas. [Havelena and Odeh](#refs) solved this issue in 1964 by rearranging the equations above by Schilthuis into: $$ \\frac{F}{E_o}=N+mN \\frac{E_g}{E_o} $$"
   ]
  },
  {
   "cell_type": "code",
   "execution_count": 8,
   "metadata": {},
   "outputs": [
    {
     "data": {
      "text/html": [
       "<div>\n",
       "<style scoped>\n",
       "    .dataframe tbody tr th:only-of-type {\n",
       "        vertical-align: middle;\n",
       "    }\n",
       "\n",
       "    .dataframe tbody tr th {\n",
       "        vertical-align: top;\n",
       "    }\n",
       "\n",
       "    .dataframe thead th {\n",
       "        text-align: right;\n",
       "    }\n",
       "</style>\n",
       "<table border=\"1\" class=\"dataframe\">\n",
       "  <thead>\n",
       "    <tr style=\"text-align: right;\">\n",
       "      <th></th>\n",
       "      <th>reservoir_pressure</th>\n",
       "      <th>Np</th>\n",
       "      <th>Rp</th>\n",
       "    </tr>\n",
       "  </thead>\n",
       "  <tbody>\n",
       "    <tr>\n",
       "      <th>0</th>\n",
       "      <td>2985.616</td>\n",
       "      <td>0.0000</td>\n",
       "      <td>0.00</td>\n",
       "    </tr>\n",
       "    <tr>\n",
       "      <th>1</th>\n",
       "      <td>2975.706</td>\n",
       "      <td>0.3185</td>\n",
       "      <td>2141.00</td>\n",
       "    </tr>\n",
       "    <tr>\n",
       "      <th>2</th>\n",
       "      <td>2966.026</td>\n",
       "      <td>0.6370</td>\n",
       "      <td>2153.59</td>\n",
       "    </tr>\n",
       "    <tr>\n",
       "      <th>3</th>\n",
       "      <td>2956.306</td>\n",
       "      <td>0.9555</td>\n",
       "      <td>2166.34</td>\n",
       "    </tr>\n",
       "    <tr>\n",
       "      <th>4</th>\n",
       "      <td>2946.556</td>\n",
       "      <td>1.2740</td>\n",
       "      <td>2179.24</td>\n",
       "    </tr>\n",
       "  </tbody>\n",
       "</table>\n",
       "</div>"
      ],
      "text/plain": [
       "   reservoir_pressure      Np       Rp\n",
       "0            2985.616  0.0000     0.00\n",
       "1            2975.706  0.3185  2141.00\n",
       "2            2966.026  0.6370  2153.59\n",
       "3            2956.306  0.9555  2166.34\n",
       "4            2946.556  1.2740  2179.24"
      ]
     },
     "execution_count": 8,
     "metadata": {},
     "output_type": "execute_result"
    }
   ],
   "source": [
    "Pi = 2985.6 # psia - starting with a reservoir at bubble point\n",
    "T = 212.0 # deg F\n",
    "\n",
    "# define fluid properties\n",
    "fluid_property_inputs={'api':42.4,\n",
    "                       'gas_oil_ratio':713.3,\n",
    "                       'gas_gravity':0.692,\n",
    "                       'pressure':Pi,\n",
    "                       'temperature':T,\n",
    "                       'water_salinity':18000.0}\n",
    "\n",
    "oil=pvt.oil_properties(fluid_property_inputs)\n",
    "gas=pvt.gas_properties(fluid_property_inputs)\n",
    "\n",
    "# initial properties for the reservoir fluid\n",
    "Boi=oil['fvf']\n",
    "Bgi=gas['fvf']\n",
    "Rsi=oil['solution_gas']\n",
    "\n",
    "production_history_file=os.path.join(os.getcwd(),'_data','saturated_res_prod_history_1.pkl')\n",
    "#production_history=pd.read_clipboard()\n",
    "#production_history.to_pickle(production_history_file)\n",
    "production_history=pd.read_pickle(production_history_file)\n",
    "production_history.head()"
   ]
  },
  {
   "cell_type": "code",
   "execution_count": 9,
   "metadata": {},
   "outputs": [
    {
     "data": {
      "text/html": [
       "<div>\n",
       "<style scoped>\n",
       "    .dataframe tbody tr th:only-of-type {\n",
       "        vertical-align: middle;\n",
       "    }\n",
       "\n",
       "    .dataframe tbody tr th {\n",
       "        vertical-align: top;\n",
       "    }\n",
       "\n",
       "    .dataframe thead th {\n",
       "        text-align: right;\n",
       "    }\n",
       "</style>\n",
       "<table border=\"1\" class=\"dataframe\">\n",
       "  <thead>\n",
       "    <tr style=\"text-align: right;\">\n",
       "      <th></th>\n",
       "      <th>reservoir_pressure</th>\n",
       "      <th>Np</th>\n",
       "      <th>Rp</th>\n",
       "      <th>Bo</th>\n",
       "      <th>Rs</th>\n",
       "      <th>Bg</th>\n",
       "    </tr>\n",
       "  </thead>\n",
       "  <tbody>\n",
       "    <tr>\n",
       "      <th>0</th>\n",
       "      <td>2985.616</td>\n",
       "      <td>0.0000</td>\n",
       "      <td>0.00</td>\n",
       "      <td>1.380400</td>\n",
       "      <td>713.300000</td>\n",
       "      <td>0.001005</td>\n",
       "    </tr>\n",
       "    <tr>\n",
       "      <th>1</th>\n",
       "      <td>2975.706</td>\n",
       "      <td>0.3185</td>\n",
       "      <td>2141.00</td>\n",
       "      <td>1.378955</td>\n",
       "      <td>710.537355</td>\n",
       "      <td>0.001008</td>\n",
       "    </tr>\n",
       "    <tr>\n",
       "      <th>2</th>\n",
       "      <td>2966.026</td>\n",
       "      <td>0.6370</td>\n",
       "      <td>2153.59</td>\n",
       "      <td>1.377460</td>\n",
       "      <td>707.679855</td>\n",
       "      <td>0.001011</td>\n",
       "    </tr>\n",
       "    <tr>\n",
       "      <th>3</th>\n",
       "      <td>2956.306</td>\n",
       "      <td>0.9555</td>\n",
       "      <td>2166.34</td>\n",
       "      <td>1.375963</td>\n",
       "      <td>704.815265</td>\n",
       "      <td>0.001014</td>\n",
       "    </tr>\n",
       "    <tr>\n",
       "      <th>4</th>\n",
       "      <td>2946.556</td>\n",
       "      <td>1.2740</td>\n",
       "      <td>2179.24</td>\n",
       "      <td>1.374463</td>\n",
       "      <td>701.946578</td>\n",
       "      <td>0.001017</td>\n",
       "    </tr>\n",
       "  </tbody>\n",
       "</table>\n",
       "</div>"
      ],
      "text/plain": [
       "   reservoir_pressure      Np       Rp        Bo          Rs        Bg\n",
       "0            2985.616  0.0000     0.00  1.380400  713.300000  0.001005\n",
       "1            2975.706  0.3185  2141.00  1.378955  710.537355  0.001008\n",
       "2            2966.026  0.6370  2153.59  1.377460  707.679855  0.001011\n",
       "3            2956.306  0.9555  2166.34  1.375963  704.815265  0.001014\n",
       "4            2946.556  1.2740  2179.24  1.374463  701.946578  0.001017"
      ]
     },
     "execution_count": 9,
     "metadata": {},
     "output_type": "execute_result"
    }
   ],
   "source": [
    "# insert the required values from the PVT properties\n",
    "reservoir_pressures=production_history['reservoir_pressure']\n",
    "Bos=[]\n",
    "Rss=[]\n",
    "Bgs=[]\n",
    "for p in reservoir_pressures:\n",
    "    fluid_property_inputs['pressure']=p\n",
    "    oil=pvt.oil_properties(fluid_property_inputs)\n",
    "    gas=pvt.gas_properties(fluid_property_inputs)\n",
    "    Bos.append(oil['fvf'])\n",
    "    Rss.append(oil['solution_gas'])\n",
    "    Bgs.append(gas['fvf'])\n",
    "\n",
    "# add them back into the dataframe for later\n",
    "production_history['Bo']=np.array(Bos)\n",
    "production_history['Rs']=np.array(Rss)\n",
    "production_history['Bg']=np.array(Bgs)\n",
    "production_history.head()"
   ]
  },
  {
   "cell_type": "code",
   "execution_count": 10,
   "metadata": {},
   "outputs": [
    {
     "data": {
      "text/html": [
       "<div>\n",
       "<style scoped>\n",
       "    .dataframe tbody tr th:only-of-type {\n",
       "        vertical-align: middle;\n",
       "    }\n",
       "\n",
       "    .dataframe tbody tr th {\n",
       "        vertical-align: top;\n",
       "    }\n",
       "\n",
       "    .dataframe thead th {\n",
       "        text-align: right;\n",
       "    }\n",
       "</style>\n",
       "<table border=\"1\" class=\"dataframe\">\n",
       "  <thead>\n",
       "    <tr style=\"text-align: right;\">\n",
       "      <th></th>\n",
       "      <th>reservoir_pressure</th>\n",
       "      <th>Np</th>\n",
       "      <th>Rp</th>\n",
       "      <th>Bo</th>\n",
       "      <th>Rs</th>\n",
       "      <th>Bg</th>\n",
       "      <th>F</th>\n",
       "      <th>Eo</th>\n",
       "      <th>Eg</th>\n",
       "      <th>F_Eo</th>\n",
       "      <th>Eg_Eo</th>\n",
       "    </tr>\n",
       "  </thead>\n",
       "  <tbody>\n",
       "    <tr>\n",
       "      <th>0</th>\n",
       "      <td>2985.616</td>\n",
       "      <td>0.0000</td>\n",
       "      <td>0.00</td>\n",
       "      <td>1.380400</td>\n",
       "      <td>713.300000</td>\n",
       "      <td>0.001005</td>\n",
       "      <td>0.000000</td>\n",
       "      <td>-1.568971e-07</td>\n",
       "      <td>-0.000007</td>\n",
       "      <td>-0.000000</td>\n",
       "      <td>42.335045</td>\n",
       "    </tr>\n",
       "    <tr>\n",
       "      <th>1</th>\n",
       "      <td>2975.706</td>\n",
       "      <td>0.3185</td>\n",
       "      <td>2141.00</td>\n",
       "      <td>1.378955</td>\n",
       "      <td>710.537355</td>\n",
       "      <td>0.001008</td>\n",
       "      <td>0.898299</td>\n",
       "      <td>1.338579e-03</td>\n",
       "      <td>0.004124</td>\n",
       "      <td>671.084071</td>\n",
       "      <td>3.080848</td>\n",
       "    </tr>\n",
       "    <tr>\n",
       "      <th>2</th>\n",
       "      <td>2966.026</td>\n",
       "      <td>0.6370</td>\n",
       "      <td>2153.59</td>\n",
       "      <td>1.377460</td>\n",
       "      <td>707.679855</td>\n",
       "      <td>0.001011</td>\n",
       "      <td>1.808288</td>\n",
       "      <td>2.740215e-03</td>\n",
       "      <td>0.008191</td>\n",
       "      <td>659.907181</td>\n",
       "      <td>2.989164</td>\n",
       "    </tr>\n",
       "    <tr>\n",
       "      <th>3</th>\n",
       "      <td>2956.306</td>\n",
       "      <td>0.9555</td>\n",
       "      <td>2166.34</td>\n",
       "      <td>1.375963</td>\n",
       "      <td>704.815265</td>\n",
       "      <td>0.001014</td>\n",
       "      <td>2.730263</td>\n",
       "      <td>4.163027e-03</td>\n",
       "      <td>0.012307</td>\n",
       "      <td>655.835957</td>\n",
       "      <td>2.956305</td>\n",
       "    </tr>\n",
       "    <tr>\n",
       "      <th>4</th>\n",
       "      <td>2946.556</td>\n",
       "      <td>1.2740</td>\n",
       "      <td>2179.24</td>\n",
       "      <td>1.374463</td>\n",
       "      <td>701.946578</td>\n",
       "      <td>0.001017</td>\n",
       "      <td>3.664504</td>\n",
       "      <td>5.605887e-03</td>\n",
       "      <td>0.016469</td>\n",
       "      <td>653.688607</td>\n",
       "      <td>2.937823</td>\n",
       "    </tr>\n",
       "  </tbody>\n",
       "</table>\n",
       "</div>"
      ],
      "text/plain": [
       "   reservoir_pressure      Np       Rp        Bo          Rs        Bg  \\\n",
       "0            2985.616  0.0000     0.00  1.380400  713.300000  0.001005   \n",
       "1            2975.706  0.3185  2141.00  1.378955  710.537355  0.001008   \n",
       "2            2966.026  0.6370  2153.59  1.377460  707.679855  0.001011   \n",
       "3            2956.306  0.9555  2166.34  1.375963  704.815265  0.001014   \n",
       "4            2946.556  1.2740  2179.24  1.374463  701.946578  0.001017   \n",
       "\n",
       "          F            Eo        Eg        F_Eo      Eg_Eo  \n",
       "0  0.000000 -1.568971e-07 -0.000007   -0.000000  42.335045  \n",
       "1  0.898299  1.338579e-03  0.004124  671.084071   3.080848  \n",
       "2  1.808288  2.740215e-03  0.008191  659.907181   2.989164  \n",
       "3  2.730263  4.163027e-03  0.012307  655.835957   2.956305  \n",
       "4  3.664504  5.605887e-03  0.016469  653.688607   2.937823  "
      ]
     },
     "execution_count": 10,
     "metadata": {},
     "output_type": "execute_result"
    }
   ],
   "source": [
    "F=[]\n",
    "Eo=[]\n",
    "Eg=[]\n",
    "for index, row in production_history.iterrows():\n",
    "    F.append(row['Np']*(row['Bo']+(row['Rp']-row['Rs'])*row['Bg']))\n",
    "    Eo.append((row['Bo']-Boi)+(Rsi-row['Rs'])*row['Bg'])\n",
    "    Eg.append(Boi*((row['Bg']/Bgi)-1))\n",
    "\n",
    "# add them back into the dataframe for later\n",
    "production_history['F']=np.array(F)\n",
    "production_history['Eo']=np.array(Eo)\n",
    "production_history['Eg']=np.array(Eg)\n",
    "\n",
    "# calculate Havlena and Odeh values\n",
    "f_Eo=[x/y for x,y in zip(F,Eo)]\n",
    "Eg_Eo=[x/y for x,y in zip(Eg,Eo)]\n",
    "production_history['F_Eo']=np.array(f_Eo)\n",
    "production_history['Eg_Eo']=np.array(Eg_Eo)\n",
    "\n",
    "production_history.head()"
   ]
  },
  {
   "cell_type": "code",
   "execution_count": 11,
   "metadata": {},
   "outputs": [
    {
     "name": "stdout",
     "output_type": "stream",
     "text": [
      "N = 298.23 MMstb, and m = 0.41\n"
     ]
    },
    {
     "data": {
      "image/png": "[encoded data removed]",
      "text/plain": [
       "<Figure size 1152x648 with 1 Axes>"
      ]
     },
     "metadata": {
      "needs_background": "light"
     },
     "output_type": "display_data"
    }
   ],
   "source": [
    "# now plot this data\n",
    "data=production_history[1:]\n",
    "\n",
    "# fit data to linear trend\n",
    "history_match = np.polyfit(data['Eg_Eo'], data['F_Eo'], 1)\n",
    "N=history_match[1]\n",
    "m=history_match[0]/history_match[1]\n",
    "print('N = {:.2f} MMstb, and m = {:.2f}'.format(N,m))\n",
    "\n",
    "x=np.linspace(data['Eg_Eo'].min(),data['Eg_Eo'].max())\n",
    "y=N+m*N*x\n",
    "\n",
    "fig=plt.figure(figsize=(16,9))\n",
    "ax=fig.add_subplot(111)\n",
    "ax.scatter(data['Eg_Eo'],data['F_Eo'])\n",
    "ax.plot(x,y,'k--')\n",
    "ax.set_xlabel(r'$\\frac{E_g}{E_o}$',fontsize=16)\n",
    "ax.set_ylabel(r'$\\frac{F}{E_o}$',fontsize=16)\n",
    "\n",
    "plt.show()"
   ]
  },
  {
   "cell_type": "markdown",
   "metadata": {},
   "source": [
    "## Calculating anticipated recovery\n",
    "Lets use the relationships above to calculate the ultimate recovery we can expect. We assume that we can produce this reservoir down to a reservoir pressure of 1500.0 psia, so what would the recovery be at that point?"
   ]
  },
  {
   "cell_type": "code",
   "execution_count": 12,
   "metadata": {},
   "outputs": [
    {
     "name": "stdout",
     "output_type": "stream",
     "text": [
      "reservoir recovery at 1500.0 psia is 12.6%\n"
     ]
    }
   ],
   "source": [
    "abandonment_pressure=1500.0 # psia\n",
    "fluid_property_inputs['pressure']=abandonment_pressure\n",
    "oil=pvt.oil_properties(fluid_property_inputs)\n",
    "gas=pvt.gas_properties(fluid_property_inputs)\n",
    "bo=oil['fvf']\n",
    "Rs=oil['solution_gas']\n",
    "Bg=gas['fvf']\n",
    "Rp=production_history['Rp'].max()\n",
    "# we will use the Rp from the history data, this will be optimistic\n",
    "recovery=((bo-boi)+(Rsi-Rs)*Bg)/(bo+(Rp-Rs)*Bg)\n",
    "print('reservoir recovery at {:.1f} psia is {:.3}%'.format(abandonment_pressure,recovery*100))"
   ]
  },
  {
   "cell_type": "markdown",
   "metadata": {},
   "source": [
    "That recovery is quite low, lets use the relationship we have for underground withdrawl (**F**) to see if we can improve things.\n",
    "\n",
    "One option that is well known and understood in reservoir engineering is water injection. Perhaps we can inject water to keep the reservoir pressure above the abandonment pressure and produce for longer. Lets see how much water we would have to inject to keep the reservoir pressure approximately where it is now.\n",
    "\n",
    "Using 1 stb of fluid as a basis the equation for **F** becomes: $$ F=B_o+(R_p-R_s)B_g $$"
   ]
  },
  {
   "cell_type": "code",
   "execution_count": 13,
   "metadata": {},
   "outputs": [
    {
     "name": "stdout",
     "output_type": "stream",
     "text": [
      "for every stb oil produced we have to inject 3.33 stb of water\n"
     ]
    }
   ],
   "source": [
    "current_reservoir_pressure=data['reservoir_pressure'].min()\n",
    "fluid_property_inputs['pressure']=current_reservoir_pressure\n",
    "oil=pvt.oil_properties(fluid_property_inputs)\n",
    "gas=pvt.gas_properties(fluid_property_inputs)\n",
    "water=pvt.water_properties(fluid_property_inputs)\n",
    "bo=oil['fvf']\n",
    "Rs=oil['solution_gas']\n",
    "Bg=gas['fvf']\n",
    "bw=water['fvf']\n",
    "f=bo+(Rp-Rs)*Bg\n",
    "f_surface=f*bw\n",
    "print('for every stb oil produced we have to inject {:.2f} stb of water'.format(f_surface))"
   ]
  },
  {
   "cell_type": "markdown",
   "metadata": {},
   "source": [
    "## References"
   ]
  },
  {
   "cell_type": "markdown",
   "metadata": {},
   "source": [
    "<a id=\"refs\"></a>\n",
    "1. Schilthuis, R.J., 1936. Active Oil and Reservoir Energy. Trans., AIME, 118: 33-52.\n",
    "2. Dake, L., 1983. Fundamentals of Reservoir Engineering., Ch. 3, Elsevier Science.\n",
    "3. Havlena, D. and Odeh, A.S., 1963. The Material Balance as an Equation of a Straight Line. J.Pet.Tech. August: 896-900. Trans., AIME, 228."
   ]
  }
 ],
 "metadata": {
  "kernelspec": {
   "display_name": "Python 3",
   "language": "python",
   "name": "python3"
  },
  "language_info": {
   "codemirror_mode": {
    "name": "ipython",
    "version": 3
   },
   "file_extension": ".py",
   "mimetype": "text/x-python",
   "name": "python",
   "nbconvert_exporter": "python",
   "pygments_lexer": "ipython3",
   "version": "3.7.3"
  }
 },
 "nbformat": 4,
 "nbformat_minor": 4
}
